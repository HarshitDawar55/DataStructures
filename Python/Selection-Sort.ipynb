{
 "cells": [
  {
   "cell_type": "markdown",
   "id": "occasional-rendering",
   "metadata": {},
   "source": [
    "# Selection Sort by `Mr. Harshit Dawar!`"
   ]
  },
  {
   "cell_type": "code",
   "execution_count": 16,
   "id": "searching-paradise",
   "metadata": {},
   "outputs": [],
   "source": [
    "def selectionSort(arr):\n",
    "    \"\"\"Function to Perform Selection Sort!\"\"\"\n",
    "    \n",
    "    for i in range(len(arr)):\n",
    "        min_value = i\n",
    "        for j in range(i + 1, len(arr)):\n",
    "            if arr[min_value] > arr[j]:\n",
    "                min_value = j\n",
    "        arr[i], arr[min_value] = arr[min_value], arr[i]\n",
    "    \n",
    "    return arr"
   ]
  },
  {
   "cell_type": "code",
   "execution_count": 14,
   "id": "desperate-uzbekistan",
   "metadata": {},
   "outputs": [
    {
     "data": {
      "text/plain": [
       "[1, 2, 3, 5, 6]"
      ]
     },
     "execution_count": 14,
     "metadata": {},
     "output_type": "execute_result"
    }
   ],
   "source": [
    "selectionSort([6,1,3,5,2])"
   ]
  },
  {
   "cell_type": "markdown",
   "id": "another-functionality",
   "metadata": {},
   "source": [
    "# Congratulations, you have learned Selection Sort!"
   ]
  }
 ],
 "metadata": {
  "kernelspec": {
   "display_name": "Python 3",
   "language": "python",
   "name": "python3"
  },
  "language_info": {
   "codemirror_mode": {
    "name": "ipython",
    "version": 3
   },
   "file_extension": ".py",
   "mimetype": "text/x-python",
   "name": "python",
   "nbconvert_exporter": "python",
   "pygments_lexer": "ipython3",
   "version": "3.7.9"
  }
 },
 "nbformat": 4,
 "nbformat_minor": 5
}
