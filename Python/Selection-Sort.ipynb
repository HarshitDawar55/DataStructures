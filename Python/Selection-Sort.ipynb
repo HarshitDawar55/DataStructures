{
 "cells": [
  {
   "cell_type": "markdown",
   "id": "adequate-thread",
   "metadata": {},
   "source": [
    "# Selection Sort by `Mr. Harshit Dawar!`"
   ]
  },
  {
   "cell_type": "code",
   "execution_count": 7,
   "id": "metric-construction",
   "metadata": {},
   "outputs": [],
   "source": [
    "def selectionSort(arr):\n",
    "    for i in range(len(arr)):\n",
    "        min_value = arr[i]\n",
    "        print(min_value)\n",
    "        for j in range(i + 1, len(arr)):\n",
    "            if min_value > arr[j]:\n",
    "                min_value = arr[j]\n",
    "        print(\"m = \", min_value)\n",
    "        arr[i], min_value = min_value, arr[i]\n",
    "        print(\"arr = \", arr)\n",
    "    print(arr)"
   ]
  },
  {
   "cell_type": "code",
   "execution_count": 8,
   "id": "northern-moore",
   "metadata": {},
   "outputs": [
    {
     "name": "stdout",
     "output_type": "stream",
     "text": [
      "6\n",
      "m =  1\n",
      "arr =  [1, 1, 3, 5, 2]\n",
      "1\n",
      "m =  1\n",
      "arr =  [1, 1, 3, 5, 2]\n",
      "3\n",
      "m =  2\n",
      "arr =  [1, 1, 2, 5, 2]\n",
      "5\n",
      "m =  2\n",
      "arr =  [1, 1, 2, 2, 2]\n",
      "2\n",
      "m =  2\n",
      "arr =  [1, 1, 2, 2, 2]\n",
      "[1, 1, 2, 2, 2]\n"
     ]
    }
   ],
   "source": [
    "selectionSort([6,1,3,5,2])"
   ]
  },
  {
   "cell_type": "code",
   "execution_count": null,
   "id": "pleasant-mixer",
   "metadata": {},
   "outputs": [],
   "source": []
  }
 ],
 "metadata": {
  "kernelspec": {
   "display_name": "Python 3",
   "language": "python",
   "name": "python3"
  },
  "language_info": {
   "codemirror_mode": {
    "name": "ipython",
    "version": 3
   },
   "file_extension": ".py",
   "mimetype": "text/x-python",
   "name": "python",
   "nbconvert_exporter": "python",
   "pygments_lexer": "ipython3",
   "version": "3.7.9"
  }
 },
 "nbformat": 4,
 "nbformat_minor": 5
}
