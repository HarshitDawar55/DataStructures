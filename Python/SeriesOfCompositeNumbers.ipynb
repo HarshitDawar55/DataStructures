{
 "cells": [
  {
   "cell_type": "markdown",
   "metadata": {},
   "source": [
    "# Finding series of composite numbers in a Given Range by `Mr. Harshit Dawar!`\n",
    "* This program will find the number range where more than 5 consecutive composite numbers are there!"
   ]
  },
  {
   "cell_type": "code",
   "execution_count": 1,
   "metadata": {},
   "outputs": [],
   "source": [
    "import math\n",
    "def compositecheck(n):\n",
    "    for i in range(2, int(math.sqrt(n)) + 1):\n",
    "        if n % i == 0:\n",
    "            return True\n",
    "    return False"
   ]
  },
  {
   "cell_type": "code",
   "execution_count": 4,
   "metadata": {},
   "outputs": [],
   "source": [
    "def SeriesGenerator(start, stop):\n",
    "    startingNumbers, EndingNumbers, totalNumbers = [], [], []\n",
    "    count = 0\n",
    "    for i in range(start, stop + 1):\n",
    "        if compositecheck(i):\n",
    "            count += 1\n",
    "            if count == 6:\n",
    "                startingNumbers.append(i - count + 1)\n",
    "        elif not compositecheck(i) and count > 5:\n",
    "            totalNumbers.append(count)\n",
    "            EndingNumbers.append(i - 1)\n",
    "            count = 0\n",
    "        else:\n",
    "            count = 0\n",
    "            \n",
    "    if len(startingNumbers) != len(EndingNumbers):\n",
    "        startingNumbers = startingNumbers[: -1]\n",
    "    for i in range(len(startingNumbers)):\n",
    "        print(startingNumbers[i], EndingNumbers[i], totalNumbers[i], sep = \" \")"
   ]
  },
  {
   "cell_type": "code",
   "execution_count": 5,
   "metadata": {},
   "outputs": [
    {
     "name": "stdout",
     "output_type": "stream",
     "text": [
      "90 96 7\n"
     ]
    }
   ],
   "source": [
    "SeriesGenerator(1, 100)"
   ]
  }
 ],
 "metadata": {
  "kernelspec": {
   "display_name": "Python 3",
   "language": "python",
   "name": "python3"
  },
  "language_info": {
   "codemirror_mode": {
    "name": "ipython",
    "version": 3
   },
   "file_extension": ".py",
   "mimetype": "text/x-python",
   "name": "python",
   "nbconvert_exporter": "python",
   "pygments_lexer": "ipython3",
   "version": "3.7.9"
  }
 },
 "nbformat": 4,
 "nbformat_minor": 4
}
