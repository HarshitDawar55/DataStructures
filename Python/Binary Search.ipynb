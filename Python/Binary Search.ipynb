{
 "cells": [
  {
   "cell_type": "markdown",
   "id": "tight-grace",
   "metadata": {},
   "source": [
    "# Binary Search by `Mr. Harshit Dawar!`"
   ]
  },
  {
   "cell_type": "code",
   "execution_count": 14,
   "id": "functioning-house",
   "metadata": {},
   "outputs": [],
   "source": [
    "def binarySearch(arr, value):\n",
    "    start = 0\n",
    "    end = len(arr) - 1\n",
    "    middle = (start + end) // 2\n",
    "    temp = arr[middle]\n",
    "    \n",
    "    while not temp == value and start <= end:\n",
    "        if temp > value:\n",
    "            end = middle - 1\n",
    "        else:\n",
    "            start = middle + 1\n",
    "            \n",
    "        middle = ( start + end ) // 2\n",
    "        temp = arr[middle]\n",
    "        \n",
    "    if arr[middle] == value:\n",
    "        print(\"Value Founded at position {}\".format(middle))\n",
    "    else:\n",
    "        print(\"Value not founded!\")"
   ]
  },
  {
   "cell_type": "code",
   "execution_count": 18,
   "id": "brief-insertion",
   "metadata": {},
   "outputs": [
    {
     "name": "stdout",
     "output_type": "stream",
     "text": [
      "Value Founded at position 56\n"
     ]
    }
   ],
   "source": [
    "binarySearch(list(range(1, 100)), 57)"
   ]
  },
  {
   "cell_type": "markdown",
   "id": "smart-convenience",
   "metadata": {},
   "source": [
    "# Congratulations, you just learned Binary Search!"
   ]
  }
 ],
 "metadata": {
  "kernelspec": {
   "display_name": "Python 3",
   "language": "python",
   "name": "python3"
  },
  "language_info": {
   "codemirror_mode": {
    "name": "ipython",
    "version": 3
   },
   "file_extension": ".py",
   "mimetype": "text/x-python",
   "name": "python",
   "nbconvert_exporter": "python",
   "pygments_lexer": "ipython3",
   "version": "3.7.9"
  }
 },
 "nbformat": 4,
 "nbformat_minor": 5
}
