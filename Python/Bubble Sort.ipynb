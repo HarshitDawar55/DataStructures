{
 "cells": [
  {
   "cell_type": "markdown",
   "id": "touched-direction",
   "metadata": {},
   "source": [
    "# Bubble Sort by `Mr. Harshit Dawar`"
   ]
  },
  {
   "cell_type": "code",
   "execution_count": 9,
   "id": "contemporary-session",
   "metadata": {},
   "outputs": [],
   "source": [
    "def bubbleSort(arr):\n",
    "    \"\"\"Function to Perform Bubble Sort!\"\"\"\n",
    "    swapped = False\n",
    "    for i in range(len(arr) - 1):\n",
    "        for j in range(len(arr) - i - 1):\n",
    "            if arr[j] > arr[j + 1]:\n",
    "                arr[j], arr[j + 1] = arr[j + 1], arr[j]\n",
    "                swapped = True\n",
    "        if not swapped:\n",
    "            return \"Already Sorted!\"\n",
    "                \n",
    "    return arr"
   ]
  },
  {
   "cell_type": "code",
   "execution_count": 10,
   "id": "graphic-bermuda",
   "metadata": {},
   "outputs": [
    {
     "data": {
      "text/plain": [
       "[1, 2, 3, 5, 7, 9, 11]"
      ]
     },
     "execution_count": 10,
     "metadata": {},
     "output_type": "execute_result"
    }
   ],
   "source": [
    "bubbleSort([1,5,7,3,9,11,2])"
   ]
  },
  {
   "cell_type": "code",
   "execution_count": 11,
   "id": "nonprofit-thriller",
   "metadata": {},
   "outputs": [
    {
     "data": {
      "text/plain": [
       "'Already Sorted!'"
      ]
     },
     "execution_count": 11,
     "metadata": {},
     "output_type": "execute_result"
    }
   ],
   "source": [
    "bubbleSort([1,2,3,4,5])"
   ]
  },
  {
   "cell_type": "markdown",
   "id": "handled-classification",
   "metadata": {},
   "source": [
    "# Congratulations, you have understood Bubble Sort best Approach!"
   ]
  }
 ],
 "metadata": {
  "kernelspec": {
   "display_name": "Python 3",
   "language": "python",
   "name": "python3"
  },
  "language_info": {
   "codemirror_mode": {
    "name": "ipython",
    "version": 3
   },
   "file_extension": ".py",
   "mimetype": "text/x-python",
   "name": "python",
   "nbconvert_exporter": "python",
   "pygments_lexer": "ipython3",
   "version": "3.7.9"
  }
 },
 "nbformat": 4,
 "nbformat_minor": 5
}
